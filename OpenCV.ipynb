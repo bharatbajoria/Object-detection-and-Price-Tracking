{
 "cells": [
  {
   "cell_type": "code",
   "execution_count": 1,
   "metadata": {},
   "outputs": [],
   "source": [
    "import cv2\n",
    "import numpy as np"
   ]
  },
  {
   "cell_type": "code",
   "execution_count": 9,
   "metadata": {},
   "outputs": [
    {
     "data": {
      "text/plain": [
       "(183, 275)"
      ]
     },
     "execution_count": 9,
     "metadata": {},
     "output_type": "execute_result"
    }
   ],
   "source": [
    "img= cv2.imread(r\"C:\\Users\\kamal\\Downloads\\Data Files for Python\\Test\\Beatles.jpg\",1)# 1 is for coloured image, use r at starting\n",
    "img1= cv2.imread(r\"C:\\Users\\kamal\\Downloads\\Data Files for Python\\Test\\Beatles.jpg\",0)# 1 is for coloured image, use r at starting\n",
    "\n",
    "#print(img)\n",
    "img.shape # checking size of image, a no. 3 will come in last for coloured image\n",
    "img1.shape[0:] # a tuple of pixel values is retuned"
   ]
  },
  {
   "cell_type": "code",
   "execution_count": 10,
   "metadata": {},
   "outputs": [
    {
     "data": {
      "text/plain": [
       "array([[243, 243, 242, ...,  31,  31,  31],\n",
       "       [243, 242, 242, ...,  31,  31,  31],\n",
       "       [242, 242, 242, ...,  30,  30,  30],\n",
       "       ...,\n",
       "       [151, 152, 152, ...,  42,  41,  49],\n",
       "       [153, 153, 154, ...,  46,  42,  39],\n",
       "       [154, 154, 155, ...,  37,  36,  32]], dtype=uint8)"
      ]
     },
     "execution_count": 10,
     "metadata": {},
     "output_type": "execute_result"
    }
   ],
   "source": [
    "img1"
   ]
  },
  {
   "cell_type": "code",
   "execution_count": 11,
   "metadata": {},
   "outputs": [],
   "source": [
    "#Image display\n",
    "\n",
    "cv2.imshow(\"bharat\",img)#display of image\n",
    "\n",
    "cv2.waitKey(0)#closes the image window with any click for 0, for  any other number for given milliseconds\n",
    "cv2.destroyAllWindows()"
   ]
  },
  {
   "cell_type": "code",
   "execution_count": 14,
   "metadata": {},
   "outputs": [],
   "source": [
    "#Resize image\n",
    "\n",
    "resize=cv2.resize(img,(300,300))\n",
    "\n",
    "cv2.imshow(\"\",resize)\n",
    "cv2.waitKey(20000)\n",
    "cv2.destroyAllWindows()"
   ]
  },
  {
   "cell_type": "code",
   "execution_count": null,
   "metadata": {},
   "outputs": [
    {
     "name": "stdout",
     "output_type": "stream",
     "text": [
      "[[235  34  32  32]\n",
      " [152  39  34  34]\n",
      " [206  38  33  33]]\n"
     ]
    }
   ],
   "source": [
    "#haar classifier\n",
    "\n",
    "#cascade classifier-read more\n",
    "facec=cv2.CascadeClassifier(r\"C:\\Users\\kamal\\Downloads\\Data Files for Python\\Harcascade Docs\\haarcascade_frontalface_default.xml\")\n",
    "faces=facec.detectMultiScale(img, scaleFactor=1.05 , minNeighbors=5,minSize=(30,30))\n",
    "print(faces)\n",
    "\n",
    "for (x,y,w,h) in faces:\n",
    "    cv2.rectangle(img,(x,y), (x+w,y+h),(255,0,0),3 )\n",
    "\n",
    "cv2.imshow(\"faces\",img)\n",
    "\n",
    "cv2.waitKey(0)\n",
    "cv2.destroyAllWindows()\n"
   ]
  },
  {
   "cell_type": "code",
   "execution_count": null,
   "metadata": {},
   "outputs": [],
   "source": []
  },
  {
   "cell_type": "code",
   "execution_count": null,
   "metadata": {},
   "outputs": [],
   "source": []
  },
  {
   "cell_type": "code",
   "execution_count": null,
   "metadata": {},
   "outputs": [],
   "source": []
  }
 ],
 "metadata": {
  "kernelspec": {
   "display_name": "Python 3",
   "language": "python",
   "name": "python3"
  },
  "language_info": {
   "codemirror_mode": {
    "name": "ipython",
    "version": 3
   },
   "file_extension": ".py",
   "mimetype": "text/x-python",
   "name": "python",
   "nbconvert_exporter": "python",
   "pygments_lexer": "ipython3",
   "version": "3.7.4"
  }
 },
 "nbformat": 4,
 "nbformat_minor": 2
}
